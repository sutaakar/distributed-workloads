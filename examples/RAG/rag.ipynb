{
 "cells": [
  {
   "cell_type": "markdown",
   "id": "b29cb9f2-e3c0-44cc-8327-7757c5add287",
   "metadata": {},
   "source": [
    "# Setup\n",
    "\n",
    "Install all needed dependencies."
   ]
  },
  {
   "cell_type": "code",
   "execution_count": 1,
   "id": "bff9c793-7ca5-4f3b-8353-b55d3acb3b4e",
   "metadata": {},
   "outputs": [
    {
     "name": "stdout",
     "output_type": "stream",
     "text": [
      "\n",
      "\u001b[1m[\u001b[0m\u001b[34;49mnotice\u001b[0m\u001b[1;39;49m]\u001b[0m\u001b[39;49m A new release of pip is available: \u001b[0m\u001b[31;49m24.2\u001b[0m\u001b[39;49m -> \u001b[0m\u001b[32;49m25.0.1\u001b[0m\n",
      "\u001b[1m[\u001b[0m\u001b[34;49mnotice\u001b[0m\u001b[1;39;49m]\u001b[0m\u001b[39;49m To update, run: \u001b[0m\u001b[32;49mpip install --upgrade pip\u001b[0m\n"
     ]
    }
   ],
   "source": [
    "!pip install --quiet --upgrade transformers sentence-transformers"
   ]
  },
  {
   "cell_type": "code",
   "execution_count": 1,
   "id": "7ac090bc-a3fa-4bd3-a385-ff597777a8e7",
   "metadata": {},
   "outputs": [
    {
     "name": "stdout",
     "output_type": "stream",
     "text": [
      "\n",
      "\u001b[1m[\u001b[0m\u001b[34;49mnotice\u001b[0m\u001b[1;39;49m]\u001b[0m\u001b[39;49m A new release of pip is available: \u001b[0m\u001b[31;49m24.2\u001b[0m\u001b[39;49m -> \u001b[0m\u001b[32;49m25.0.1\u001b[0m\n",
      "\u001b[1m[\u001b[0m\u001b[34;49mnotice\u001b[0m\u001b[1;39;49m]\u001b[0m\u001b[39;49m To update, run: \u001b[0m\u001b[32;49mpip install --upgrade pip\u001b[0m\n"
     ]
    }
   ],
   "source": [
    "# Install the YAML magic\n",
    "!pip install --quiet yamlmagic\n",
    "%load_ext yamlmagic"
   ]
  },
  {
   "cell_type": "markdown",
   "id": "f1918ea4-87c8-4880-900a-134a0bbb5591",
   "metadata": {},
   "source": [
    "Configuration and used models."
   ]
  },
  {
   "cell_type": "code",
   "execution_count": 2,
   "id": "3f0abf06-145f-4644-b25d-823c6ffc58af",
   "metadata": {},
   "outputs": [
    {
     "data": {
      "application/javascript": [
       "\n",
       "            require(\n",
       "                [\n",
       "                    \"notebook/js/codecell\",\n",
       "                    \"codemirror/mode/yaml/yaml\"\n",
       "                ],\n",
       "                function(cc){\n",
       "                    cc.CodeCell.options_default.highlight_modes.magic_yaml = {\n",
       "                        reg: [\"^%%yaml\"]\n",
       "                    }\n",
       "                }\n",
       "            );\n",
       "            "
      ],
      "text/plain": [
       "<IPython.core.display.Javascript object>"
      ]
     },
     "metadata": {},
     "output_type": "display_data"
    }
   ],
   "source": [
    "%%yaml parameters\n",
    "\n",
    "# Model\n",
    "embedder_model_name_or_path: ibm-granite/granite-embedding-30m-english\n",
    "generator_model_name_or_path: ibm-granite/granite-3.2-2b-instruct"
   ]
  },
  {
   "cell_type": "markdown",
   "id": "24ef69a7-c616-4b06-b1ad-d3cb98abe7df",
   "metadata": {},
   "source": [
    "#  Simple RAG\n",
    "\n",
    "Prepare chunk database. In this case database is represented by a list."
   ]
  },
  {
   "cell_type": "code",
   "execution_count": 3,
   "id": "cb54a2f0-aef6-4308-a8b4-07e9c7cca23b",
   "metadata": {},
   "outputs": [
    {
     "name": "stdout",
     "output_type": "stream",
     "text": [
      "Loaded 150 entries\n"
     ]
    }
   ],
   "source": [
    "import urllib.request\n",
    "\n",
    "link = \"https://huggingface.co/ngxson/demo_simple_rag_py/raw/main/cat-facts.txt\"\n",
    "dataset = []\n",
    "\n",
    "# Retrieve knowledge from provided link, use every line as a separate chunk.\n",
    "for line in urllib.request.urlopen(link):\n",
    "  dataset.append(line.decode('utf-8'))\n",
    "\n",
    "print(f'Loaded {len(dataset)} entries')"
   ]
  },
  {
   "cell_type": "markdown",
   "id": "bc5bb3cd-9785-43fa-b1c4-e16e78b69073",
   "metadata": {},
   "source": [
    "**Specify user query here**"
   ]
  },
  {
   "cell_type": "code",
   "execution_count": 4,
   "id": "9dc40487-bf1c-49ed-9106-0dc46e38820c",
   "metadata": {},
   "outputs": [],
   "source": [
    "input_query = \"tell me about cat mummies\""
   ]
  },
  {
   "cell_type": "markdown",
   "id": "677c95fe-1d36-4dfe-bf0d-1283857e5ee7",
   "metadata": {},
   "source": [
    "Encode user query and chunks into embeddings (vector representations). Use semantic_search to find 5 chunks which are most similar to the query."
   ]
  },
  {
   "cell_type": "code",
   "execution_count": 5,
   "id": "8c61b305-5f62-4f99-8577-0708ba5e5f28",
   "metadata": {},
   "outputs": [
    {
     "name": "stdout",
     "output_type": "stream",
     "text": [
      "Retrieved knowledge:\n",
      " - (similarity: 0.85) In ancient Egypt, mummies were made of cats, and embalmed mice were placed with them in their tombs. In one ancient city, over 300,000 cat mummies were found.\n",
      "\n",
      " - (similarity: 0.80) In 1888, more than 300,000 mummified cats were found an Egyptian cemetery. They were stripped of their wrappings and carted off to be used by farmers in England and the U.S. for fertilizer.\n",
      "\n",
      " - (similarity: 0.79) When a family cat died in ancient Egypt, family members would mourn by shaving off their eyebrows. They also held elaborate funerals during which they drank wine and beat their breasts. The cat was embalmed with a sculpted wooden mask and the tiny mummy was placed in the family tomb or in a pet cemetery with tiny mummies of mice.\n",
      "\n",
      " - (similarity: 0.75) Mohammed loved cats and reportedly his favorite cat, Muezza, was a tabby. Legend says that tabby cats have an “M” for Mohammed on top of their heads because Mohammad would often rest his hand on the cat’s head.\n",
      "\n",
      " - (similarity: 0.75) Cats are subject to gum disease and to dental caries. They should have their teeth cleaned by the vet or the cat dentist once a year.\n",
      "\n"
     ]
    }
   ],
   "source": [
    "from sentence_transformers import SentenceTransformer\n",
    "from sentence_transformers.util import semantic_search\n",
    "\n",
    "embedder = SentenceTransformer(parameters['embedder_model_name_or_path'])\n",
    "\n",
    "query_embedding = embedder.encode(input_query, convert_to_tensor=True)\n",
    "dataset_embedding = embedder.encode(dataset, convert_to_tensor=True)\n",
    "\n",
    "# Get 5 chunk embeddings which are most similar to the query embedding.\n",
    "# semantic_search returns list of dictionaries with embedding index (corpus_id) and similarity score.\n",
    "retrieved_knowledge = semantic_search(query_embeddings=query_embedding, corpus_embeddings=dataset_embedding, top_k=5)\n",
    "\n",
    "print('Retrieved knowledge:')\n",
    "for corpus in retrieved_knowledge[0]:\n",
    "  print(f' - (similarity: {corpus[\"score\"]:.2f}) {dataset[corpus[\"corpus_id\"]]}')"
   ]
  },
  {
   "cell_type": "markdown",
   "id": "10554313-eca4-4a81-a1b7-3363632095c1",
   "metadata": {},
   "source": [
    "Prepare inference pipeline using transformers"
   ]
  },
  {
   "cell_type": "code",
   "execution_count": 6,
   "id": "42cb29a0-50ff-4111-a1c3-5fb7e2d18bb4",
   "metadata": {},
   "outputs": [
    {
     "data": {
      "application/vnd.jupyter.widget-view+json": {
       "model_id": "576ea8f533cd41e19f3eb84725a9f349",
       "version_major": 2,
       "version_minor": 0
      },
      "text/plain": [
       "Loading checkpoint shards:   0%|          | 0/2 [00:00<?, ?it/s]"
      ]
     },
     "metadata": {},
     "output_type": "display_data"
    },
    {
     "name": "stderr",
     "output_type": "stream",
     "text": [
      "Device set to use cuda:0\n"
     ]
    }
   ],
   "source": [
    "import transformers\n",
    "\n",
    "tokenizer = transformers.AutoTokenizer.from_pretrained(parameters['generator_model_name_or_path'])\n",
    "if tokenizer.pad_token_id is None:\n",
    "    tokenizer.pad_token_id = tokenizer.eos_token_id\n",
    "\n",
    "pipeline = transformers.pipeline(\"text-generation\", model=parameters['generator_model_name_or_path'], tokenizer=tokenizer)"
   ]
  },
  {
   "cell_type": "markdown",
   "id": "b52d2349-02aa-47d6-a5d0-783e8361feee",
   "metadata": {},
   "source": [
    "Run inference using provided user prompt and system prompt containing knowledge chunks."
   ]
  },
  {
   "cell_type": "code",
   "execution_count": 7,
   "id": "780ba23e-2dda-4cb8-814c-66886ddd3ecb",
   "metadata": {},
   "outputs": [],
   "source": [
    "# Construct system prompt for inference providing retrieved chunks as context.\n",
    "instruction_prompt = f'''You are a helpful chatbot.\n",
    "Use only the following pieces of context to answer the question. Don't make up any new information:\n",
    "{''.join([f' - {dataset[corpus[\"corpus_id\"]]}' for corpus in retrieved_knowledge[0]])}\n",
    "'''\n",
    "\n",
    "messages = [\n",
    "    {\n",
    "        \"role\": \"system\",\n",
    "        \"content\": instruction_prompt,\n",
    "    },\n",
    "    {\n",
    "        \"role\": \"user\",\n",
    "        \"content\": input_query,\n",
    "    }\n",
    "]\n",
    "\n",
    "outputs = pipeline(messages, max_new_tokens=1024)"
   ]
  },
  {
   "cell_type": "markdown",
   "id": "7f58e9e1-1096-447b-90a3-c3819e4982a9",
   "metadata": {},
   "source": [
    "Print result."
   ]
  },
  {
   "cell_type": "code",
   "execution_count": 8,
   "id": "4a948777-5abd-4f57-a8ac-9edaadf41b07",
   "metadata": {},
   "outputs": [
    {
     "data": {
      "text/markdown": [
       "# system\n",
       "\n",
       "You are a helpful chatbot.\n",
       "Use only the following pieces of context to answer the question. Don't make up any new information:\n",
       " - In ancient Egypt, mummies were made of cats, and embalmed mice were placed with them in their tombs. In one ancient city, over 300,000 cat mummies were found.\n",
       " - In 1888, more than 300,000 mummified cats were found an Egyptian cemetery. They were stripped of their wrappings and carted off to be used by farmers in England and the U.S. for fertilizer.\n",
       " - When a family cat died in ancient Egypt, family members would mourn by shaving off their eyebrows. They also held elaborate funerals during which they drank wine and beat their breasts. The cat was embalmed with a sculpted wooden mask and the tiny mummy was placed in the family tomb or in a pet cemetery with tiny mummies of mice.\n",
       " - Mohammed loved cats and reportedly his favorite cat, Muezza, was a tabby. Legend says that tabby cats have an “M” for Mohammed on top of their heads because Mohammad would often rest his hand on the cat’s head.\n",
       " - Cats are subject to gum disease and to dental caries. They should have their teeth cleaned by the vet or the cat dentist once a year.\n",
       "\n",
       "\n",
       "\n",
       "# user\n",
       "\n",
       "tell me about cat mummies\n",
       "\n",
       "# assistant\n",
       "\n",
       "In ancient Egypt, cat mummies were a significant part of their funeral rituals. These mummies were made from actual cats, not just representations. The process involved embalming the cat, often with a sculpted wooden mask, and then preserving the body. \n",
       "\n",
       "The practice of mumming cats was particularly common for family pets. When a family cat died, the family would mourn by shaving off their eyebrows and holding elaborate funerals. During these ceremonies, they would drink wine and beat their breasts, symbolizing grief. The embalmed cat, along with a tiny mummy of a mouse (to represent the cat's prey), was then placed in the family tomb or in a pet cemetery.\n",
       "\n",
       "One notable instance occurred in 1888 when over 300,000 cat mummies were discovered in an Egyptian cemetery. These were stripped of their wrappings and exported to England and the U.S. for use as fertilizer. This event highlights the historical significance and practical use of cat mummies in ancient Egypt.\n",
       "\n",
       "Interestingly, the practice of mumming cats was also influenced by cultural figures. For example, Mohammed, the founder of Islam, was known to love cats, with his favorite, Muezza, being a tabby. According to legend, tabby cats bear an \"M\" on their heads, symbolizing Mohammed's affection for them.\n",
       "\n",
       "It's worth noting that while these historical practices are fascinating, modern veterinary care is crucial for cat health. Cats, like all pets, can suffer from dental issues such as gum disease and dental caries. Regular dental check-ups and cleanings by a vet or a cat dentist are recommended to maintain their oral health.\n",
       "\n"
      ],
      "text/plain": [
       "<IPython.core.display.Markdown object>"
      ]
     },
     "metadata": {},
     "output_type": "display_data"
    }
   ],
   "source": [
    "from IPython.display import display, Markdown\n",
    "\n",
    "output = \"\"\n",
    "for turn in outputs:\n",
    "    for item in turn[\"generated_text\"]:\n",
    "        output += f\"# {item['role']}\\n\\n{item['content']}\\n\\n\"\n",
    "\n",
    "display(Markdown(output))"
   ]
  },
  {
   "cell_type": "code",
   "execution_count": null,
   "id": "77fe6178-0625-4f37-8249-a092e0844e0b",
   "metadata": {},
   "outputs": [],
   "source": []
  }
 ],
 "metadata": {
  "kernelspec": {
   "display_name": "Python 3.11",
   "language": "python",
   "name": "python3"
  },
  "language_info": {
   "codemirror_mode": {
    "name": "ipython",
    "version": 3
   },
   "file_extension": ".py",
   "mimetype": "text/x-python",
   "name": "python",
   "nbconvert_exporter": "python",
   "pygments_lexer": "ipython3",
   "version": "3.11.9"
  }
 },
 "nbformat": 4,
 "nbformat_minor": 5
}
